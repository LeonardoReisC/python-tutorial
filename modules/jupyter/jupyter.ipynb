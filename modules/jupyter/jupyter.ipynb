{
 "cells": [
  {
   "cell_type": "markdown",
   "id": "8b382703-4d12-4629-9d98-4f4a09a78a77",
   "metadata": {},
   "source": [
    "# This is my .ipynb file\n",
    "This line creates `a` variable."
   ]
  },
  {
   "cell_type": "code",
   "execution_count": null,
   "id": "7a2c4e24-4f7c-4a92-bbbc-edb9e432d278",
   "metadata": {},
   "outputs": [],
   "source": [
    "a = 2"
   ]
  },
  {
   "cell_type": "code",
   "execution_count": 3,
   "id": "7c5189a4-af0f-4217-9a67-b93577be676b",
   "metadata": {},
   "outputs": [
    {
     "data": {
      "text/plain": [
       "2"
      ]
     },
     "execution_count": 3,
     "metadata": {},
     "output_type": "execute_result"
    }
   ],
   "source": [
    "a"
   ]
  },
  {
   "cell_type": "markdown",
   "id": "c4fdbc41-e312-4107-bc9e-1315d68656cd",
   "metadata": {},
   "source": [
    "This line has the double of `a`."
   ]
  },
  {
   "cell_type": "code",
   "execution_count": 11,
   "id": "2b352228-c0ea-4495-a371-acdadce25cad",
   "metadata": {},
   "outputs": [
    {
     "data": {
      "text/plain": [
       "4"
      ]
     },
     "execution_count": 11,
     "metadata": {},
     "output_type": "execute_result"
    }
   ],
   "source": [
    "b = a * 2\n",
    "b"
   ]
  },
  {
   "cell_type": "markdown",
   "id": "7f374823-c59a-45c2-a79f-fc49382a8d3e",
   "metadata": {},
   "source": [
    "This line show the value of `a` + `b`."
   ]
  },
  {
   "cell_type": "code",
   "execution_count": 10,
   "id": "e94a62fa-f593-43b8-9df6-10b3244c0ff5",
   "metadata": {},
   "outputs": [
    {
     "data": {
      "text/plain": [
       "6"
      ]
     },
     "execution_count": 10,
     "metadata": {},
     "output_type": "execute_result"
    }
   ],
   "source": [
    "a + b"
   ]
  },
  {
   "cell_type": "code",
   "execution_count": null,
   "id": "863aa6f5-cf0e-49a1-8397-7480398623ba",
   "metadata": {},
   "outputs": [],
   "source": []
  }
 ],
 "metadata": {
  "kernelspec": {
   "display_name": "Python 3 (ipykernel)",
   "language": "python",
   "name": "python3"
  },
  "language_info": {
   "codemirror_mode": {
    "name": "ipython",
    "version": 3
   },
   "file_extension": ".py",
   "mimetype": "text/x-python",
   "name": "python",
   "nbconvert_exporter": "python",
   "pygments_lexer": "ipython3",
   "version": "3.11.3"
  }
 },
 "nbformat": 4,
 "nbformat_minor": 5
}
